{
 "cells": [
  {
   "cell_type": "markdown",
   "metadata": {},
   "source": [
    "# Overview\n",
    "\n",
    "Watch this video:\n",
    "[Hidden Figures](https://www.youtube.com/watch?v=v-pbGAts_Fg)\n",
    "The method that they used to calculate the trajectory of the space shuttle is called Euler's Method.  In this numerical problem you will learn how to use simple loops and implement Euler's algorithm to calculate the trajectory of an object moving in one dimension.\n",
    "\n",
    "\n",
    "## Loops\n",
    "\n",
    "A loop is a set of instructions that are to be executed over and over again.  There are two main kinds of loops: 'for' loops and 'while' loops. 'for' loops should be used when you know beforehand exactly how many iterations the loop will execute.  'while' loops should be used when you do not know beforehand how many iterations will be performed, but rather have some criteria that will trigger an exit from the loop.  Below you will find two examples of using loops to numerically integrate the function:\n",
    "\n",
    "$$\\int_{-3}^3 e^{-x^2} dx \\approx \\sqrt{\\pi}$$\n",
    "\n",
    "1. Verify that the result is $\\sqrt{\\pi}$ as is should be.\n",
    "2.  Ask questions about the syntax until you understand what is happening."
   ]
  },
  {
   "cell_type": "code",
   "execution_count": 6,
   "metadata": {},
   "outputs": [
    {
     "output_type": "stream",
     "name": "stdout",
     "text": [
      "1.7724146841787163\n"
     ]
    }
   ],
   "source": [
    "from numpy import exp,arange\n",
    "myIntegral = 0\n",
    "dx = 0.01\n",
    "for x in arange(-3,3,dx):  # What do you think the \"arange\" function does?\n",
    "    myIntegral += exp(-x**2) * dx\n",
    "print(myIntegral)"
   ]
  },
  {
   "cell_type": "code",
   "execution_count": 5,
   "metadata": {},
   "outputs": [
    {
     "output_type": "stream",
     "name": "stdout",
     "text": [
      "1.7724159182767183\n"
     ]
    }
   ],
   "source": [
    "from numpy import exp\n",
    "x = -3\n",
    "dx = 0.01\n",
    "myIntegral = 0\n",
    "\n",
    "while x <= 3:\n",
    "    myIntegral += exp(-x**2) * dx\n",
    "    x += dx\n",
    "    \n",
    "print(myIntegral)"
   ]
  },
  {
   "cell_type": "markdown",
   "metadata": {},
   "source": [
    "    \n",
    "    \n",
    "## Euler's Method\n",
    "The idea behind Euler's method is to take very tiny steps forward in time, and assume that the acceleration of the object is constant over that very small time interval.  The smaller the time interval, the better the validity of the constant-acceleration assumption. \n",
    "Euler’s method is a numerical approach for finding velocities and positions when the acceleration is **not** constant. In this approach, very small time steps are made into the future and new positions and velocities are calculated using the simple formulas:\n",
    "\n",
    "$$ v_f = v_i + a \\Delta t$$\n",
    "$$ x_f = x_i + v \\Delta t$$\n",
    "\n",
    "(the $ {1\\over 2} a \\Delta t^2$ term is not needed because the velocity is assumed to be constant over such a small time interval.)\n",
    "\n",
    "Your choice for $\\Delta t$ is critical to the accuracy of the method. Smaller time steps produce more accurate results (to a point) at greater computational cost.  \n",
    "\n",
    "## Example\n",
    "\n",
    "Let's see how to code Euler's method for a simple problem.  In this problem, a steel ball is thrown upward with an initial velocity $v_i = 10$ m/s from a height of $4$ m.  We'd like to know when it lands on the ground and how fast it's going."
   ]
  },
  {
   "cell_type": "code",
   "execution_count": 4,
   "metadata": {},
   "outputs": [
    {
     "output_type": "stream",
     "name": "stdout",
     "text": [
      "It took 2.35 seconds for the particle to hit the ground\nThe velocity of the particle as it hit the ground was -13.03 meters/seconds\n"
     ]
    },
    {
     "output_type": "display_data",
     "data": {
      "text/plain": "<Figure size 432x288 with 1 Axes>",
      "image/svg+xml": "<?xml version=\"1.0\" encoding=\"utf-8\" standalone=\"no\"?>\r\n<!DOCTYPE svg PUBLIC \"-//W3C//DTD SVG 1.1//EN\"\r\n  \"http://www.w3.org/Graphics/SVG/1.1/DTD/svg11.dtd\">\r\n<svg height=\"248.518125pt\" version=\"1.1\" viewBox=\"0 0 362.5625 248.518125\" width=\"362.5625pt\" xmlns=\"http://www.w3.org/2000/svg\" xmlns:xlink=\"http://www.w3.org/1999/xlink\">\r\n <metadata>\r\n  <rdf:RDF xmlns:cc=\"http://creativecommons.org/ns#\" xmlns:dc=\"http://purl.org/dc/elements/1.1/\" xmlns:rdf=\"http://www.w3.org/1999/02/22-rdf-syntax-ns#\">\r\n   <cc:Work>\r\n    <dc:type rdf:resource=\"http://purl.org/dc/dcmitype/StillImage\"/>\r\n    <dc:date>2021-06-14T13:47:07.474480</dc:date>\r\n    <dc:format>image/svg+xml</dc:format>\r\n    <dc:creator>\r\n     <cc:Agent>\r\n      <dc:title>Matplotlib v3.4.2, https://matplotlib.org/</dc:title>\r\n     </cc:Agent>\r\n    </dc:creator>\r\n   </cc:Work>\r\n  </rdf:RDF>\r\n </metadata>\r\n <defs>\r\n  <style type=\"text/css\">*{stroke-linecap:butt;stroke-linejoin:round;}</style>\r\n </defs>\r\n <g id=\"figure_1\">\r\n  <g id=\"patch_1\">\r\n   <path d=\"M 0 248.518125 \r\nL 362.5625 248.518125 \r\nL 362.5625 0 \r\nL 0 0 \r\nz\r\n\" style=\"fill:none;\"/>\r\n  </g>\r\n  <g id=\"axes_1\">\r\n   <g id=\"patch_2\">\r\n    <path d=\"M 20.5625 224.64 \r\nL 355.3625 224.64 \r\nL 355.3625 7.2 \r\nL 20.5625 7.2 \r\nz\r\n\" style=\"fill:#ffffff;\"/>\r\n   </g>\r\n   <g id=\"matplotlib.axis_1\">\r\n    <g id=\"xtick_1\">\r\n     <g id=\"line2d_1\">\r\n      <defs>\r\n       <path d=\"M 0 0 \r\nL 0 3.5 \r\n\" id=\"m0b474dc932\" style=\"stroke:#000000;stroke-width:0.8;\"/>\r\n      </defs>\r\n      <g>\r\n       <use style=\"stroke:#000000;stroke-width:0.8;\" x=\"29.164081\" xlink:href=\"#m0b474dc932\" y=\"224.64\"/>\r\n      </g>\r\n     </g>\r\n     <g id=\"text_1\">\r\n      <!-- 0.0 -->\r\n      <g transform=\"translate(21.212519 239.238438)scale(0.1 -0.1)\">\r\n       <defs>\r\n        <path d=\"M 2034 4250 \r\nQ 1547 4250 1301 3770 \r\nQ 1056 3291 1056 2328 \r\nQ 1056 1369 1301 889 \r\nQ 1547 409 2034 409 \r\nQ 2525 409 2770 889 \r\nQ 3016 1369 3016 2328 \r\nQ 3016 3291 2770 3770 \r\nQ 2525 4250 2034 4250 \r\nz\r\nM 2034 4750 \r\nQ 2819 4750 3233 4129 \r\nQ 3647 3509 3647 2328 \r\nQ 3647 1150 3233 529 \r\nQ 2819 -91 2034 -91 \r\nQ 1250 -91 836 529 \r\nQ 422 1150 422 2328 \r\nQ 422 3509 836 4129 \r\nQ 1250 4750 2034 4750 \r\nz\r\n\" id=\"DejaVuSans-30\" transform=\"scale(0.015625)\"/>\r\n        <path d=\"M 684 794 \r\nL 1344 794 \r\nL 1344 0 \r\nL 684 0 \r\nL 684 794 \r\nz\r\n\" id=\"DejaVuSans-2e\" transform=\"scale(0.015625)\"/>\r\n       </defs>\r\n       <use xlink:href=\"#DejaVuSans-30\"/>\r\n       <use x=\"63.623047\" xlink:href=\"#DejaVuSans-2e\"/>\r\n       <use x=\"95.410156\" xlink:href=\"#DejaVuSans-30\"/>\r\n      </g>\r\n     </g>\r\n    </g>\r\n    <g id=\"xtick_2\">\r\n     <g id=\"line2d_2\">\r\n      <g>\r\n       <use style=\"stroke:#000000;stroke-width:0.8;\" x=\"95.330089\" xlink:href=\"#m0b474dc932\" y=\"224.64\"/>\r\n      </g>\r\n     </g>\r\n     <g id=\"text_2\">\r\n      <!-- 0.5 -->\r\n      <g transform=\"translate(87.378526 239.238438)scale(0.1 -0.1)\">\r\n       <defs>\r\n        <path d=\"M 691 4666 \r\nL 3169 4666 \r\nL 3169 4134 \r\nL 1269 4134 \r\nL 1269 2991 \r\nQ 1406 3038 1543 3061 \r\nQ 1681 3084 1819 3084 \r\nQ 2600 3084 3056 2656 \r\nQ 3513 2228 3513 1497 \r\nQ 3513 744 3044 326 \r\nQ 2575 -91 1722 -91 \r\nQ 1428 -91 1123 -41 \r\nQ 819 9 494 109 \r\nL 494 744 \r\nQ 775 591 1075 516 \r\nQ 1375 441 1709 441 \r\nQ 2250 441 2565 725 \r\nQ 2881 1009 2881 1497 \r\nQ 2881 1984 2565 2268 \r\nQ 2250 2553 1709 2553 \r\nQ 1456 2553 1204 2497 \r\nQ 953 2441 691 2322 \r\nL 691 4666 \r\nz\r\n\" id=\"DejaVuSans-35\" transform=\"scale(0.015625)\"/>\r\n       </defs>\r\n       <use xlink:href=\"#DejaVuSans-30\"/>\r\n       <use x=\"63.623047\" xlink:href=\"#DejaVuSans-2e\"/>\r\n       <use x=\"95.410156\" xlink:href=\"#DejaVuSans-35\"/>\r\n      </g>\r\n     </g>\r\n    </g>\r\n    <g id=\"xtick_3\">\r\n     <g id=\"line2d_3\">\r\n      <g>\r\n       <use style=\"stroke:#000000;stroke-width:0.8;\" x=\"161.496097\" xlink:href=\"#m0b474dc932\" y=\"224.64\"/>\r\n      </g>\r\n     </g>\r\n     <g id=\"text_3\">\r\n      <!-- 1.0 -->\r\n      <g transform=\"translate(153.544534 239.238438)scale(0.1 -0.1)\">\r\n       <defs>\r\n        <path d=\"M 794 531 \r\nL 1825 531 \r\nL 1825 4091 \r\nL 703 3866 \r\nL 703 4441 \r\nL 1819 4666 \r\nL 2450 4666 \r\nL 2450 531 \r\nL 3481 531 \r\nL 3481 0 \r\nL 794 0 \r\nL 794 531 \r\nz\r\n\" id=\"DejaVuSans-31\" transform=\"scale(0.015625)\"/>\r\n       </defs>\r\n       <use xlink:href=\"#DejaVuSans-31\"/>\r\n       <use x=\"63.623047\" xlink:href=\"#DejaVuSans-2e\"/>\r\n       <use x=\"95.410156\" xlink:href=\"#DejaVuSans-30\"/>\r\n      </g>\r\n     </g>\r\n    </g>\r\n    <g id=\"xtick_4\">\r\n     <g id=\"line2d_4\">\r\n      <g>\r\n       <use style=\"stroke:#000000;stroke-width:0.8;\" x=\"227.662105\" xlink:href=\"#m0b474dc932\" y=\"224.64\"/>\r\n      </g>\r\n     </g>\r\n     <g id=\"text_4\">\r\n      <!-- 1.5 -->\r\n      <g transform=\"translate(219.710542 239.238438)scale(0.1 -0.1)\">\r\n       <use xlink:href=\"#DejaVuSans-31\"/>\r\n       <use x=\"63.623047\" xlink:href=\"#DejaVuSans-2e\"/>\r\n       <use x=\"95.410156\" xlink:href=\"#DejaVuSans-35\"/>\r\n      </g>\r\n     </g>\r\n    </g>\r\n    <g id=\"xtick_5\">\r\n     <g id=\"line2d_5\">\r\n      <g>\r\n       <use style=\"stroke:#000000;stroke-width:0.8;\" x=\"293.828113\" xlink:href=\"#m0b474dc932\" y=\"224.64\"/>\r\n      </g>\r\n     </g>\r\n     <g id=\"text_5\">\r\n      <!-- 2.0 -->\r\n      <g transform=\"translate(285.87655 239.238438)scale(0.1 -0.1)\">\r\n       <defs>\r\n        <path d=\"M 1228 531 \r\nL 3431 531 \r\nL 3431 0 \r\nL 469 0 \r\nL 469 531 \r\nQ 828 903 1448 1529 \r\nQ 2069 2156 2228 2338 \r\nQ 2531 2678 2651 2914 \r\nQ 2772 3150 2772 3378 \r\nQ 2772 3750 2511 3984 \r\nQ 2250 4219 1831 4219 \r\nQ 1534 4219 1204 4116 \r\nQ 875 4013 500 3803 \r\nL 500 4441 \r\nQ 881 4594 1212 4672 \r\nQ 1544 4750 1819 4750 \r\nQ 2544 4750 2975 4387 \r\nQ 3406 4025 3406 3419 \r\nQ 3406 3131 3298 2873 \r\nQ 3191 2616 2906 2266 \r\nQ 2828 2175 2409 1742 \r\nQ 1991 1309 1228 531 \r\nz\r\n\" id=\"DejaVuSans-32\" transform=\"scale(0.015625)\"/>\r\n       </defs>\r\n       <use xlink:href=\"#DejaVuSans-32\"/>\r\n       <use x=\"63.623047\" xlink:href=\"#DejaVuSans-2e\"/>\r\n       <use x=\"95.410156\" xlink:href=\"#DejaVuSans-30\"/>\r\n      </g>\r\n     </g>\r\n    </g>\r\n   </g>\r\n   <g id=\"matplotlib.axis_2\">\r\n    <g id=\"ytick_1\">\r\n     <g id=\"line2d_6\">\r\n      <defs>\r\n       <path d=\"M 0 0 \r\nL -3.5 0 \r\n\" id=\"mab1c794a97\" style=\"stroke:#000000;stroke-width:0.8;\"/>\r\n      </defs>\r\n      <g>\r\n       <use style=\"stroke:#000000;stroke-width:0.8;\" x=\"20.5625\" xlink:href=\"#mab1c794a97\" y=\"211.766319\"/>\r\n      </g>\r\n     </g>\r\n     <g id=\"text_6\">\r\n      <!-- 0 -->\r\n      <g transform=\"translate(7.2 215.565538)scale(0.1 -0.1)\">\r\n       <use xlink:href=\"#DejaVuSans-30\"/>\r\n      </g>\r\n     </g>\r\n    </g>\r\n    <g id=\"ytick_2\">\r\n     <g id=\"line2d_7\">\r\n      <g>\r\n       <use style=\"stroke:#000000;stroke-width:0.8;\" x=\"20.5625\" xlink:href=\"#mab1c794a97\" y=\"167.795075\"/>\r\n      </g>\r\n     </g>\r\n     <g id=\"text_7\">\r\n      <!-- 2 -->\r\n      <g transform=\"translate(7.2 171.594294)scale(0.1 -0.1)\">\r\n       <use xlink:href=\"#DejaVuSans-32\"/>\r\n      </g>\r\n     </g>\r\n    </g>\r\n    <g id=\"ytick_3\">\r\n     <g id=\"line2d_8\">\r\n      <g>\r\n       <use style=\"stroke:#000000;stroke-width:0.8;\" x=\"20.5625\" xlink:href=\"#mab1c794a97\" y=\"123.823831\"/>\r\n      </g>\r\n     </g>\r\n     <g id=\"text_8\">\r\n      <!-- 4 -->\r\n      <g transform=\"translate(7.2 127.62305)scale(0.1 -0.1)\">\r\n       <defs>\r\n        <path d=\"M 2419 4116 \r\nL 825 1625 \r\nL 2419 1625 \r\nL 2419 4116 \r\nz\r\nM 2253 4666 \r\nL 3047 4666 \r\nL 3047 1625 \r\nL 3713 1625 \r\nL 3713 1100 \r\nL 3047 1100 \r\nL 3047 0 \r\nL 2419 0 \r\nL 2419 1100 \r\nL 313 1100 \r\nL 313 1709 \r\nL 2253 4666 \r\nz\r\n\" id=\"DejaVuSans-34\" transform=\"scale(0.015625)\"/>\r\n       </defs>\r\n       <use xlink:href=\"#DejaVuSans-34\"/>\r\n      </g>\r\n     </g>\r\n    </g>\r\n    <g id=\"ytick_4\">\r\n     <g id=\"line2d_9\">\r\n      <g>\r\n       <use style=\"stroke:#000000;stroke-width:0.8;\" x=\"20.5625\" xlink:href=\"#mab1c794a97\" y=\"79.852587\"/>\r\n      </g>\r\n     </g>\r\n     <g id=\"text_9\">\r\n      <!-- 6 -->\r\n      <g transform=\"translate(7.2 83.651806)scale(0.1 -0.1)\">\r\n       <defs>\r\n        <path d=\"M 2113 2584 \r\nQ 1688 2584 1439 2293 \r\nQ 1191 2003 1191 1497 \r\nQ 1191 994 1439 701 \r\nQ 1688 409 2113 409 \r\nQ 2538 409 2786 701 \r\nQ 3034 994 3034 1497 \r\nQ 3034 2003 2786 2293 \r\nQ 2538 2584 2113 2584 \r\nz\r\nM 3366 4563 \r\nL 3366 3988 \r\nQ 3128 4100 2886 4159 \r\nQ 2644 4219 2406 4219 \r\nQ 1781 4219 1451 3797 \r\nQ 1122 3375 1075 2522 \r\nQ 1259 2794 1537 2939 \r\nQ 1816 3084 2150 3084 \r\nQ 2853 3084 3261 2657 \r\nQ 3669 2231 3669 1497 \r\nQ 3669 778 3244 343 \r\nQ 2819 -91 2113 -91 \r\nQ 1303 -91 875 529 \r\nQ 447 1150 447 2328 \r\nQ 447 3434 972 4092 \r\nQ 1497 4750 2381 4750 \r\nQ 2619 4750 2861 4703 \r\nQ 3103 4656 3366 4563 \r\nz\r\n\" id=\"DejaVuSans-36\" transform=\"scale(0.015625)\"/>\r\n       </defs>\r\n       <use xlink:href=\"#DejaVuSans-36\"/>\r\n      </g>\r\n     </g>\r\n    </g>\r\n    <g id=\"ytick_5\">\r\n     <g id=\"line2d_10\">\r\n      <g>\r\n       <use style=\"stroke:#000000;stroke-width:0.8;\" x=\"20.5625\" xlink:href=\"#mab1c794a97\" y=\"35.881343\"/>\r\n      </g>\r\n     </g>\r\n     <g id=\"text_10\">\r\n      <!-- 8 -->\r\n      <g transform=\"translate(7.2 39.680562)scale(0.1 -0.1)\">\r\n       <defs>\r\n        <path d=\"M 2034 2216 \r\nQ 1584 2216 1326 1975 \r\nQ 1069 1734 1069 1313 \r\nQ 1069 891 1326 650 \r\nQ 1584 409 2034 409 \r\nQ 2484 409 2743 651 \r\nQ 3003 894 3003 1313 \r\nQ 3003 1734 2745 1975 \r\nQ 2488 2216 2034 2216 \r\nz\r\nM 1403 2484 \r\nQ 997 2584 770 2862 \r\nQ 544 3141 544 3541 \r\nQ 544 4100 942 4425 \r\nQ 1341 4750 2034 4750 \r\nQ 2731 4750 3128 4425 \r\nQ 3525 4100 3525 3541 \r\nQ 3525 3141 3298 2862 \r\nQ 3072 2584 2669 2484 \r\nQ 3125 2378 3379 2068 \r\nQ 3634 1759 3634 1313 \r\nQ 3634 634 3220 271 \r\nQ 2806 -91 2034 -91 \r\nQ 1263 -91 848 271 \r\nQ 434 634 434 1313 \r\nQ 434 1759 690 2068 \r\nQ 947 2378 1403 2484 \r\nz\r\nM 1172 3481 \r\nQ 1172 3119 1398 2916 \r\nQ 1625 2713 2034 2713 \r\nQ 2441 2713 2670 2916 \r\nQ 2900 3119 2900 3481 \r\nQ 2900 3844 2670 4047 \r\nQ 2441 4250 2034 4250 \r\nQ 1625 4250 1398 4047 \r\nQ 1172 3844 1172 3481 \r\nz\r\n\" id=\"DejaVuSans-38\" transform=\"scale(0.015625)\"/>\r\n       </defs>\r\n       <use xlink:href=\"#DejaVuSans-38\"/>\r\n      </g>\r\n     </g>\r\n    </g>\r\n   </g>\r\n   <g id=\"line2d_11\">\r\n    <defs>\r\n     <path d=\"M 0 1.5 \r\nC 0.397805 1.5 0.77937 1.341951 1.06066 1.06066 \r\nC 1.341951 0.77937 1.5 0.397805 1.5 0 \r\nC 1.5 -0.397805 1.341951 -0.77937 1.06066 -1.06066 \r\nC 0.77937 -1.341951 0.397805 -1.5 0 -1.5 \r\nC -0.397805 -1.5 -0.77937 -1.341951 -1.06066 -1.06066 \r\nC -1.341951 -0.77937 -1.5 -0.397805 -1.5 0 \r\nC -1.5 0.397805 -1.341951 0.77937 -1.06066 1.06066 \r\nC -0.77937 1.341951 -0.397805 1.5 0 1.5 \r\nz\r\n\" id=\"mcd28e164d2\" style=\"stroke:#000000;\"/>\r\n    </defs>\r\n    <g clip-path=\"url(#pfba495599a)\">\r\n     <use style=\"stroke:#000000;\" x=\"35.780682\" xlink:href=\"#mcd28e164d2\" y=\"113.369668\"/>\r\n    </g>\r\n   </g>\r\n   <g id=\"line2d_12\">\r\n    <g clip-path=\"url(#pfba495599a)\">\r\n     <use style=\"stroke:#000000;\" x=\"42.397283\" xlink:href=\"#mcd28e164d2\" y=\"103.454152\"/>\r\n    </g>\r\n   </g>\r\n   <g id=\"line2d_13\">\r\n    <g clip-path=\"url(#pfba495599a)\">\r\n     <use style=\"stroke:#000000;\" x=\"49.013883\" xlink:href=\"#mcd28e164d2\" y=\"94.077285\"/>\r\n    </g>\r\n   </g>\r\n   <g id=\"line2d_14\">\r\n    <g clip-path=\"url(#pfba495599a)\">\r\n     <use style=\"stroke:#000000;\" x=\"55.630484\" xlink:href=\"#mcd28e164d2\" y=\"85.239065\"/>\r\n    </g>\r\n   </g>\r\n   <g id=\"line2d_15\">\r\n    <g clip-path=\"url(#pfba495599a)\">\r\n     <use style=\"stroke:#000000;\" x=\"62.247085\" xlink:href=\"#mcd28e164d2\" y=\"76.939492\"/>\r\n    </g>\r\n   </g>\r\n   <g id=\"line2d_16\">\r\n    <g clip-path=\"url(#pfba495599a)\">\r\n     <use style=\"stroke:#000000;\" x=\"68.863686\" xlink:href=\"#mcd28e164d2\" y=\"69.178568\"/>\r\n    </g>\r\n   </g>\r\n   <g id=\"line2d_17\">\r\n    <g clip-path=\"url(#pfba495599a)\">\r\n     <use style=\"stroke:#000000;\" x=\"75.480287\" xlink:href=\"#mcd28e164d2\" y=\"61.956291\"/>\r\n    </g>\r\n   </g>\r\n   <g id=\"line2d_18\">\r\n    <g clip-path=\"url(#pfba495599a)\">\r\n     <use style=\"stroke:#000000;\" x=\"82.096887\" xlink:href=\"#mcd28e164d2\" y=\"55.272662\"/>\r\n    </g>\r\n   </g>\r\n   <g id=\"line2d_19\">\r\n    <g clip-path=\"url(#pfba495599a)\">\r\n     <use style=\"stroke:#000000;\" x=\"88.713488\" xlink:href=\"#mcd28e164d2\" y=\"49.12768\"/>\r\n    </g>\r\n   </g>\r\n   <g id=\"line2d_20\">\r\n    <g clip-path=\"url(#pfba495599a)\">\r\n     <use style=\"stroke:#000000;\" x=\"95.330089\" xlink:href=\"#mcd28e164d2\" y=\"43.521347\"/>\r\n    </g>\r\n   </g>\r\n   <g id=\"line2d_21\">\r\n    <g clip-path=\"url(#pfba495599a)\">\r\n     <use style=\"stroke:#000000;\" x=\"101.94669\" xlink:href=\"#mcd28e164d2\" y=\"38.453661\"/>\r\n    </g>\r\n   </g>\r\n   <g id=\"line2d_22\">\r\n    <g clip-path=\"url(#pfba495599a)\">\r\n     <use style=\"stroke:#000000;\" x=\"108.563291\" xlink:href=\"#mcd28e164d2\" y=\"33.924623\"/>\r\n    </g>\r\n   </g>\r\n   <g id=\"line2d_23\">\r\n    <g clip-path=\"url(#pfba495599a)\">\r\n     <use style=\"stroke:#000000;\" x=\"115.179891\" xlink:href=\"#mcd28e164d2\" y=\"29.934232\"/>\r\n    </g>\r\n   </g>\r\n   <g id=\"line2d_24\">\r\n    <g clip-path=\"url(#pfba495599a)\">\r\n     <use style=\"stroke:#000000;\" x=\"121.796492\" xlink:href=\"#mcd28e164d2\" y=\"26.48249\"/>\r\n    </g>\r\n   </g>\r\n   <g id=\"line2d_25\">\r\n    <g clip-path=\"url(#pfba495599a)\">\r\n     <use style=\"stroke:#000000;\" x=\"128.413093\" xlink:href=\"#mcd28e164d2\" y=\"23.569395\"/>\r\n    </g>\r\n   </g>\r\n   <g id=\"line2d_26\">\r\n    <g clip-path=\"url(#pfba495599a)\">\r\n     <use style=\"stroke:#000000;\" x=\"135.029694\" xlink:href=\"#mcd28e164d2\" y=\"21.194948\"/>\r\n    </g>\r\n   </g>\r\n   <g id=\"line2d_27\">\r\n    <g clip-path=\"url(#pfba495599a)\">\r\n     <use style=\"stroke:#000000;\" x=\"141.646294\" xlink:href=\"#mcd28e164d2\" y=\"19.359148\"/>\r\n    </g>\r\n   </g>\r\n   <g id=\"line2d_28\">\r\n    <g clip-path=\"url(#pfba495599a)\">\r\n     <use style=\"stroke:#000000;\" x=\"148.262895\" xlink:href=\"#mcd28e164d2\" y=\"18.061997\"/>\r\n    </g>\r\n   </g>\r\n   <g id=\"line2d_29\">\r\n    <g clip-path=\"url(#pfba495599a)\">\r\n     <use style=\"stroke:#000000;\" x=\"154.879496\" xlink:href=\"#mcd28e164d2\" y=\"17.303493\"/>\r\n    </g>\r\n   </g>\r\n   <g id=\"line2d_30\">\r\n    <g clip-path=\"url(#pfba495599a)\">\r\n     <use style=\"stroke:#000000;\" x=\"161.496097\" xlink:href=\"#mcd28e164d2\" y=\"17.083636\"/>\r\n    </g>\r\n   </g>\r\n   <g id=\"line2d_31\">\r\n    <g clip-path=\"url(#pfba495599a)\">\r\n     <use style=\"stroke:#000000;\" x=\"168.112698\" xlink:href=\"#mcd28e164d2\" y=\"17.402428\"/>\r\n    </g>\r\n   </g>\r\n   <g id=\"line2d_32\">\r\n    <g clip-path=\"url(#pfba495599a)\">\r\n     <use style=\"stroke:#000000;\" x=\"174.729298\" xlink:href=\"#mcd28e164d2\" y=\"18.259867\"/>\r\n    </g>\r\n   </g>\r\n   <g id=\"line2d_33\">\r\n    <g clip-path=\"url(#pfba495599a)\">\r\n     <use style=\"stroke:#000000;\" x=\"181.345899\" xlink:href=\"#mcd28e164d2\" y=\"19.655954\"/>\r\n    </g>\r\n   </g>\r\n   <g id=\"line2d_34\">\r\n    <g clip-path=\"url(#pfba495599a)\">\r\n     <use style=\"stroke:#000000;\" x=\"187.9625\" xlink:href=\"#mcd28e164d2\" y=\"21.590689\"/>\r\n    </g>\r\n   </g>\r\n   <g id=\"line2d_35\">\r\n    <g clip-path=\"url(#pfba495599a)\">\r\n     <use style=\"stroke:#000000;\" x=\"194.579101\" xlink:href=\"#mcd28e164d2\" y=\"24.064071\"/>\r\n    </g>\r\n   </g>\r\n   <g id=\"line2d_36\">\r\n    <g clip-path=\"url(#pfba495599a)\">\r\n     <use style=\"stroke:#000000;\" x=\"201.195702\" xlink:href=\"#mcd28e164d2\" y=\"27.076102\"/>\r\n    </g>\r\n   </g>\r\n   <g id=\"line2d_37\">\r\n    <g clip-path=\"url(#pfba495599a)\">\r\n     <use style=\"stroke:#000000;\" x=\"207.812302\" xlink:href=\"#mcd28e164d2\" y=\"30.62678\"/>\r\n    </g>\r\n   </g>\r\n   <g id=\"line2d_38\">\r\n    <g clip-path=\"url(#pfba495599a)\">\r\n     <use style=\"stroke:#000000;\" x=\"214.428903\" xlink:href=\"#mcd28e164d2\" y=\"34.716105\"/>\r\n    </g>\r\n   </g>\r\n   <g id=\"line2d_39\">\r\n    <g clip-path=\"url(#pfba495599a)\">\r\n     <use style=\"stroke:#000000;\" x=\"221.045504\" xlink:href=\"#mcd28e164d2\" y=\"39.344079\"/>\r\n    </g>\r\n   </g>\r\n   <g id=\"line2d_40\">\r\n    <g clip-path=\"url(#pfba495599a)\">\r\n     <use style=\"stroke:#000000;\" x=\"227.662105\" xlink:href=\"#mcd28e164d2\" y=\"44.5107\"/>\r\n    </g>\r\n   </g>\r\n   <g id=\"line2d_41\">\r\n    <g clip-path=\"url(#pfba495599a)\">\r\n     <use style=\"stroke:#000000;\" x=\"234.278706\" xlink:href=\"#mcd28e164d2\" y=\"50.215969\"/>\r\n    </g>\r\n   </g>\r\n   <g id=\"line2d_42\">\r\n    <g clip-path=\"url(#pfba495599a)\">\r\n     <use style=\"stroke:#000000;\" x=\"240.895306\" xlink:href=\"#mcd28e164d2\" y=\"56.459885\"/>\r\n    </g>\r\n   </g>\r\n   <g id=\"line2d_43\">\r\n    <g clip-path=\"url(#pfba495599a)\">\r\n     <use style=\"stroke:#000000;\" x=\"247.511907\" xlink:href=\"#mcd28e164d2\" y=\"63.24245\"/>\r\n    </g>\r\n   </g>\r\n   <g id=\"line2d_44\">\r\n    <g clip-path=\"url(#pfba495599a)\">\r\n     <use style=\"stroke:#000000;\" x=\"254.128508\" xlink:href=\"#mcd28e164d2\" y=\"70.563662\"/>\r\n    </g>\r\n   </g>\r\n   <g id=\"line2d_45\">\r\n    <g clip-path=\"url(#pfba495599a)\">\r\n     <use style=\"stroke:#000000;\" x=\"260.745109\" xlink:href=\"#mcd28e164d2\" y=\"78.423522\"/>\r\n    </g>\r\n   </g>\r\n   <g id=\"line2d_46\">\r\n    <g clip-path=\"url(#pfba495599a)\">\r\n     <use style=\"stroke:#000000;\" x=\"267.361709\" xlink:href=\"#mcd28e164d2\" y=\"86.822029\"/>\r\n    </g>\r\n   </g>\r\n   <g id=\"line2d_47\">\r\n    <g clip-path=\"url(#pfba495599a)\">\r\n     <use style=\"stroke:#000000;\" x=\"273.97831\" xlink:href=\"#mcd28e164d2\" y=\"95.759185\"/>\r\n    </g>\r\n   </g>\r\n   <g id=\"line2d_48\">\r\n    <g clip-path=\"url(#pfba495599a)\">\r\n     <use style=\"stroke:#000000;\" x=\"280.594911\" xlink:href=\"#mcd28e164d2\" y=\"105.234988\"/>\r\n    </g>\r\n   </g>\r\n   <g id=\"line2d_49\">\r\n    <g clip-path=\"url(#pfba495599a)\">\r\n     <use style=\"stroke:#000000;\" x=\"287.211512\" xlink:href=\"#mcd28e164d2\" y=\"115.249439\"/>\r\n    </g>\r\n   </g>\r\n   <g id=\"line2d_50\">\r\n    <g clip-path=\"url(#pfba495599a)\">\r\n     <use style=\"stroke:#000000;\" x=\"293.828113\" xlink:href=\"#mcd28e164d2\" y=\"125.802537\"/>\r\n    </g>\r\n   </g>\r\n   <g id=\"line2d_51\">\r\n    <g clip-path=\"url(#pfba495599a)\">\r\n     <use style=\"stroke:#000000;\" x=\"300.444713\" xlink:href=\"#mcd28e164d2\" y=\"136.894283\"/>\r\n    </g>\r\n   </g>\r\n   <g id=\"line2d_52\">\r\n    <g clip-path=\"url(#pfba495599a)\">\r\n     <use style=\"stroke:#000000;\" x=\"307.061314\" xlink:href=\"#mcd28e164d2\" y=\"148.524677\"/>\r\n    </g>\r\n   </g>\r\n   <g id=\"line2d_53\">\r\n    <g clip-path=\"url(#pfba495599a)\">\r\n     <use style=\"stroke:#000000;\" x=\"313.677915\" xlink:href=\"#mcd28e164d2\" y=\"160.693719\"/>\r\n    </g>\r\n   </g>\r\n   <g id=\"line2d_54\">\r\n    <g clip-path=\"url(#pfba495599a)\">\r\n     <use style=\"stroke:#000000;\" x=\"320.294516\" xlink:href=\"#mcd28e164d2\" y=\"173.401409\"/>\r\n    </g>\r\n   </g>\r\n   <g id=\"line2d_55\">\r\n    <g clip-path=\"url(#pfba495599a)\">\r\n     <use style=\"stroke:#000000;\" x=\"326.911117\" xlink:href=\"#mcd28e164d2\" y=\"186.647746\"/>\r\n    </g>\r\n   </g>\r\n   <g id=\"line2d_56\">\r\n    <g clip-path=\"url(#pfba495599a)\">\r\n     <use style=\"stroke:#000000;\" x=\"333.527717\" xlink:href=\"#mcd28e164d2\" y=\"200.432731\"/>\r\n    </g>\r\n   </g>\r\n   <g id=\"line2d_57\">\r\n    <g clip-path=\"url(#pfba495599a)\">\r\n     <use style=\"stroke:#000000;\" x=\"340.144318\" xlink:href=\"#mcd28e164d2\" y=\"214.756364\"/>\r\n    </g>\r\n   </g>\r\n   <g id=\"patch_3\">\r\n    <path d=\"M 20.5625 224.64 \r\nL 20.5625 7.2 \r\n\" style=\"fill:none;stroke:#000000;stroke-linecap:square;stroke-linejoin:miter;stroke-width:0.8;\"/>\r\n   </g>\r\n   <g id=\"patch_4\">\r\n    <path d=\"M 355.3625 224.64 \r\nL 355.3625 7.2 \r\n\" style=\"fill:none;stroke:#000000;stroke-linecap:square;stroke-linejoin:miter;stroke-width:0.8;\"/>\r\n   </g>\r\n   <g id=\"patch_5\">\r\n    <path d=\"M 20.5625 224.64 \r\nL 355.3625 224.64 \r\n\" style=\"fill:none;stroke:#000000;stroke-linecap:square;stroke-linejoin:miter;stroke-width:0.8;\"/>\r\n   </g>\r\n   <g id=\"patch_6\">\r\n    <path d=\"M 20.5625 7.2 \r\nL 355.3625 7.2 \r\n\" style=\"fill:none;stroke:#000000;stroke-linecap:square;stroke-linejoin:miter;stroke-width:0.8;\"/>\r\n   </g>\r\n  </g>\r\n </g>\r\n <defs>\r\n  <clipPath id=\"pfba495599a\">\r\n   <rect height=\"217.44\" width=\"334.8\" x=\"20.5625\" y=\"7.2\"/>\r\n  </clipPath>\r\n </defs>\r\n</svg>\r\n",
      "image/png": "[encoded data removed]"
     },
     "metadata": {
      "needs_background": "light"
     }
    }
   ],
   "source": [
    "from matplotlib import pyplot\n",
    "\n",
    "vi = 10\n",
    "a = -9.8\n",
    "deltat = 0.05\n",
    "\n",
    "y = 4\n",
    "v = 10\n",
    "t = 0\n",
    "\n",
    "while y > 0:\n",
    "    v += a * deltat\n",
    "    y += v * deltat\n",
    "    t += deltat\n",
    "    pyplot.plot(t,y,'k.')\n",
    "from matplotlib import pyplot\n",
    "\n",
    "print(\"It took{:5.2f} seconds for the particle to hit the ground\".format(t))\n",
    "print(\"The velocity of the particle as it hit the ground was {:5.2f} meters/seconds\".format(v))\n",
    "\n",
    "pyplot.show()"
   ]
  },
  {
   "cell_type": "markdown",
   "metadata": {},
   "source": [
    "Do the following:\n",
    "\n",
    "1. Play with the time step; make it big, make it small. Draw conclusions.\n",
    "2. Change the initial conditions and verify that the results make sense to you.\n",
    "3. Comment the code above. If you don't understand what a line does, ask me or a classmate.\n",
    "\n",
    "\n",
    "## Your Problem\n",
    "\n",
    "\n",
    "A hailstone of mass $4.8 \\times 10^{-4} $kg is dropped from an initial height of $50$ m and falls through the air ,experiencing a net force (gravity plus drag) given by:\n",
    "\n",
    "$$ F = - m g + C v^2$$\n",
    "\n",
    "where $C = 2.5\\times 10^{-5} kg/m$.\n",
    "\n",
    "1. Calculate the terminal speed of the hailstone.  ($v_t = \\sqrt{m g \\over C}$)\n",
    "2. Modify the code from above to find the speed and position of the hailstone as a function of time.  \n",
    "3. Plot the position of the hailstone as a function of time.  How do you know that terminal velocity has been reached?\n",
    "4. Plot the velocity of the hailstone as a function of time.  Does this function agree with the position vs. time function?(slope of position = value of velocity)  Did you reach the same terminal velocity that you calculated earlier?"
   ]
  },
  {
   "cell_type": "code",
   "execution_count": null,
   "metadata": {},
   "outputs": [
    {
     "output_type": "error",
     "ename": "Error",
     "evalue": "Pip module Unable to parse debugpy output, please log an issue with https://github.com/microsoft/vscode-jupyter is required for debugging cells. You will need to install it to debug cells.",
     "traceback": [
      "Error: Pip module Unable to parse debugpy output, please log an issue with https://github.com/microsoft/vscode-jupyter is required for debugging cells. You will need to install it to debug cells.",
      "at _.parseConnectInfo (c:\\Users\\Carlos Lespin\\.vscode\\extensions\\ms-toolsai.jupyter-2021.6.999230701\\out\\client\\extension.js:90:160684)",
      "at _.connectToLocal (c:\\Users\\Carlos Lespin\\.vscode\\extensions\\ms-toolsai.jupyter-2021.6.999230701\\out\\client\\extension.js:90:161211)",
      "at async _.connect (c:\\Users\\Carlos Lespin\\.vscode\\extensions\\ms-toolsai.jupyter-2021.6.999230701\\out\\client\\extension.js:90:159088)",
      "at async _.startDebugSession (c:\\Users\\Carlos Lespin\\.vscode\\extensions\\ms-toolsai.jupyter-2021.6.999230701\\out\\client\\extension.js:90:158235)",
      "at async D.submitCode (c:\\Users\\Carlos Lespin\\.vscode\\extensions\\ms-toolsai.jupyter-2021.6.999230701\\out\\client\\extension.js:37:636138)",
      "at async D.handleRunByLine (c:\\Users\\Carlos Lespin\\.vscode\\extensions\\ms-toolsai.jupyter-2021.6.999230701\\out\\client\\extension.js:37:624081)"
     ]
    }
   ],
   "source": [
    "import numpy, math\n",
    "from matplotlib import pyplot\n",
    "\n",
    "g = 9.8\n",
    "m = .00048\n",
    "C = .000025\n",
    "i_position_y = 50\n",
    "a = -g\n",
    "vi = 0\n",
    "v_terminal = -math.sqrt(m * g / C)\n",
    "print(f'The terminal velocity is: {v_terminal} m/s')\n",
    "\n",
    "#F_net = - m * g + C * (v_terminal**2)\n",
    "\n",
    "\n",
    "delta_t = .05\n",
    "\n",
    "y = 50\n",
    "v = 0\n",
    "t = 0\n",
    "\n",
    "\n",
    "while y > 0:\n",
    "    v += a * delta_t\n",
    "    if v < v_terminal:\n",
    "        v = v_terminal\n",
    "    y += v * delta_t\n",
    "    t += delta_t\n",
    "    pyplot.figure(1)\n",
    "    pyplot.plot(t,y,'k.')\n",
    "    pyplot.plot(t,v,'k.')\n",
    "pyplot.show()\n",
    "\n",
    "print(\"It took{:5.2f} seconds for the particle to hit the ground\".format(t))\n",
    "print(\"The velocity of the particle as it hit the ground was {:5.2f} meters/seconds\".format(v))\n",
    "\n",
    "#We know the terminal velociity has been reached when the graph flattens out in the time v. velocity graph."
   ]
  },
  {
   "cell_type": "code",
   "execution_count": null,
   "metadata": {},
   "outputs": [],
   "source": []
  }
 ],
 "metadata": {
  "kernelspec": {
   "name": "python3",
   "display_name": "Python 3.9.1 64-bit"
  },
  "language_info": {
   "codemirror_mode": {
    "name": "ipython",
    "version": 3
   },
   "file_extension": ".py",
   "mimetype": "text/x-python",
   "name": "python",
   "nbconvert_exporter": "python",
   "pygments_lexer": "ipython3",
   "version": "3.9.1"
  },
  "interpreter": {
   "hash": "4d617a17d133d10987ae882a8ecc156b0ec37d197fa7f9d592894036e640bcc6"
  }
 },
 "nbformat": 4,
 "nbformat_minor": 4
}