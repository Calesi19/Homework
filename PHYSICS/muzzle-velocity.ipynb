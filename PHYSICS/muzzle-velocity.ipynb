{
 "cells": [
  {
   "cell_type": "markdown",
   "metadata": {},
   "source": [
    "# Overview\n",
    "\n",
    "In this week's numerical problem you will use skills from previous week's assignments to do something slightly new. In this assignment, you will work with:\n",
    "1- Arrays\n",
    "2- Plots\n",
    "\n",
    "\n",
    "## Arrays\n",
    "\n",
    "Arrays are lists of numbers that can be used in mathematical calculations.  Here are two ways to create arrays in python:\n"
   ]
  },
  {
   "cell_type": "code",
   "execution_count": 12,
   "metadata": {},
   "outputs": [
    {
     "name": "stdout",
     "output_type": "stream",
     "text": [
      "[0.  0.1 0.2 0.3 0.4 0.5 0.6 0.7 0.8 0.9 1.  1.1 1.2 1.3 1.4 1.5 1.6 1.7\n",
      " 1.8 1.9 2.  2.1 2.2 2.3 2.4 2.5 2.6 2.7 2.8 2.9 3.  3.1 3.2 3.3 3.4 3.5\n",
      " 3.6 3.7 3.8 3.9 4.  4.1 4.2 4.3 4.4 4.5 4.6 4.7 4.8 4.9]\n",
      "[3.  4.  1.  5.  2.2]\n"
     ]
    }
   ],
   "source": [
    "# First way\n",
    "from numpy import arange\n",
    "myarray = arange(0,5,.1)\n",
    "print(myarray)\n",
    "\n",
    "#Second way\n",
    "\n",
    "from numpy import array\n",
    "anotherArray = array([3,4,1,5,2.2])\n",
    "print(anotherArray)"
   ]
  },
  {
   "cell_type": "markdown",
   "metadata": {},
   "source": [
    "In the first method, you created an array of numbers starting at 0 and ending at 5, with a step size of 0.1 .  In the second method, you turned a list into an array.   When you read data in from a file using the 'loadtxt' command, it is also stored in an array:\n"
   ]
  },
  {
   "cell_type": "code",
   "execution_count": 7,
   "metadata": {},
   "outputs": [
    {
     "output_type": "stream",
     "name": "stdout",
     "text": [
      "[1.9221214  2.00489894 2.05324272 1.97461341 1.95940025 2.15291091\n 1.98978294 2.11672426 1.97202914 2.00749263 1.8816226  1.99227575\n 2.02743468 1.95528911 1.8812613  2.02550451 1.92045062 1.89955339\n 2.06819639 2.03156497 1.95421044 1.94392153 1.86926389 2.10359524\n 2.06406923 1.97177768 1.95324396 1.98680854 1.82226252 1.76821629\n 1.98950077 1.77650047 1.95886914 2.19639198 2.02049853 1.93092014\n 2.10226821 1.94909985 2.13365952 1.93190094 1.93925698 1.92340919\n 2.09160235 2.09212626 1.78960102 1.89649326 1.92876431 1.95864738\n 2.04941451 2.08973496 2.0661234  1.92362721 2.02028331 2.16839095\n 2.12179791 2.09442793 2.02392156 1.87564287 1.91389821 2.1343385\n 2.06117191 1.92088348 2.05863071 1.9403807  1.95722406 2.126195\n 1.85617948 2.09013812 1.84129184 2.0065579  1.83544103 1.92764869\n 1.96900299 2.0776796  1.97523573 1.99912948 2.0056237  1.84668817\n 2.08850202 2.11659463 2.09352644 1.90343757 2.04282089 2.08766988\n 2.06261613 1.84479014 1.95395433 1.97202153 2.03666758 1.87536502\n 1.9265567  2.14851998 1.85661662 2.08192377 2.03038492 2.1014787\n 2.01784122 1.89763513 1.95234143 1.84720515 1.82564712 1.97201366\n 2.00029769 2.03724794 1.9389194  1.95678335 1.96229813 1.93512151\n 2.06809228 1.82896352 1.93913717 2.13940326 1.91141165 1.89079148\n 1.94858568 1.81333464 1.8714477  1.95879908 2.00922766 2.06398028\n 1.97741899 1.9535379  1.92110072 1.95320254 2.02062796 1.89225764\n 2.02825258 2.06937743 2.04244588 2.19317604 1.95225032 2.06648484\n 1.92347739 1.84394107 2.06282002 2.05737446 1.86729912 1.95516582\n 2.10771346 2.02162839 1.85669361 1.91393925 1.9439052  1.89887883\n 1.92094064 1.97917947 1.80849993 1.94486454 1.9307452  2.08308197\n 1.94674524 1.99178722 2.2191532  1.95577732 2.04114475 2.02093051\n 1.9994785  2.11578231 1.89465193 1.91826424 1.95747778 2.06956616\n 2.00045488 2.0435545  1.86961477 1.87452418 2.03751597 1.94105188\n 2.03218794 1.90559116 2.12082736 2.11828109 1.99419842 2.02726427\n 2.05105218 2.08518494 1.96494989 2.26326321 1.99892822 1.90097247\n 1.96576437 2.13921354 1.98632888 2.09302618 2.16375476 2.09002651\n 2.08153829 2.19037361 1.97791211 2.03572028 1.95281361 2.03994762\n 1.99063796 2.02766784 1.94343432 2.04982744 1.98859057 1.93896452\n 1.98528755 2.18892272 2.06462399 2.01728992 2.05689465 1.85992566\n 2.02590069 2.03085394 2.01045823 2.09990822 2.10106496 2.04675662\n 1.95127665 2.05947642 2.0982529  2.06235751 1.90177105 2.13747819\n 2.06268845 1.92993406 2.11417371 2.10568047 2.09442176 1.91496184\n 1.85008443 1.97312964 1.99512581 2.02783354 2.00189184 2.02947221\n 1.94350274 2.09212754 2.01897784 1.95941646 1.99693498 2.10474875\n 2.00616902 2.27340938 1.99844034 2.18341519 1.93146904 2.07351588\n 1.89649853 2.03049823 2.18977961 2.13215903 2.07362373 1.96216306\n 2.09699112 1.97114854 2.20363271 1.99225704 1.87057547 1.88085122\n 1.740939   1.88294114 2.11508657 1.95492045 2.16527136 2.00889008\n 1.98158541 1.95833951 2.07445492 2.04861498 2.02421926 2.17408221\n 2.14428129 1.90051535 2.10611113 1.96755337 2.0731524  2.04367127\n 2.08210908 1.96135427 2.08281353 1.9162252  1.93017968 2.20879551\n 1.8933029  2.02910553 1.87406348 2.17506078 1.99008845 1.93425147\n 2.03462742 2.01997348 1.82139519 1.98424107 2.07280866 2.19233207\n 1.95105355 2.16261893 1.83751167 2.06814945 2.05788734 1.96531766\n 1.8605454  1.9760007  2.06626387 2.03425495 1.94695667 1.91084774\n 1.99746337 1.90919096 2.05898503 1.96914359 2.07898438 1.97290221\n 1.92966626 2.17461671 1.91716856 1.9745007  1.903825   2.03273279\n 2.09492911 2.08425619 1.83558054 1.91308179 1.95072122 2.01453575\n 1.94449848 1.9956212  2.00830544 1.89956578 1.91416766 2.04718369\n 2.08283065 2.00651319 1.97284714 2.1408105  2.07109477 2.00978066\n 2.04678071 1.86783255 1.92041254 1.90194714 1.9423241  1.91909402\n 2.11189964 1.75934777 1.84444051 1.95681773 1.82677018 2.04450249\n 2.0326696  2.0597551  1.9896032  2.16647374 1.91007914 2.0040852\n 1.88164176 1.88052396 1.75091439 2.07911767 1.99732956 1.97361331\n 2.06073408 2.15370278 2.02786009 1.90853102 1.98426131 1.91047708\n 2.09418149 1.89202549 2.09652731 1.86487364 2.18264439 2.02032433\n 2.00603729 1.98864983 2.01551646 2.03438479 2.08624519 2.22481175\n 1.99803311 1.98208422 2.05596385 1.96732998 1.94870923 2.05809202\n 1.98421698 2.14988348 2.00989444 2.01851527 2.1116308  2.18025528\n 1.85040577 1.90805468 2.10129119 2.01972945 2.11390869 1.84982973\n 1.79992389 2.10724449 2.03678698 2.0786043  1.99602539 2.04780228\n 2.06954411 1.94501359 1.99782943 2.10305213 2.03681042 1.91407189\n 1.96095583 1.94659495 1.78273115 2.10847461 1.98564354 2.12140237\n 2.03428882 1.95000832 1.99196867 1.93210035 1.84684938 2.15162061\n 1.9859872  1.84066026 1.98965095 2.01477759 1.93788594 2.01311105\n 1.99535302 1.98826684 2.08445534 2.07952457 2.03441259 2.09122875\n 2.075494   2.04148387 2.04455253 2.203171   1.900369   2.05105029\n 2.05913003 2.00029461 1.89771522 2.07791617 1.95265866 1.89560436\n 1.95002927 2.15979582 1.89710386 1.98236192 1.97883    1.81829931\n 1.99780319 2.03329795 1.98269921 2.00110409 2.11097338 2.18302309\n 1.85051979 2.09209249 1.93991568 1.99556639 1.98384869 1.85469715\n 1.98157183 2.10410122 2.04314244 1.8786433  2.0616612  1.98937109\n 2.00781878 2.08173133 2.07168975 2.13209036 1.85633543 2.10177442\n 1.90702241 1.91357089 2.0694037  2.1122019  1.87159391 2.05589556\n 1.88115939 1.90593445 2.07551458 2.0979962  1.8858635  1.92722381\n 2.03982484 2.12342119 1.92382974 1.99220731 2.01330324 1.83103266\n 1.92142489 2.02407516 1.86742871 1.99093363 2.05026071 2.05424323\n 1.82739143 2.02534968 2.14557641 2.17892332 1.91845651 1.74975307\n 2.25982448 2.21029576 2.02169354 2.05303006 2.06223215 2.0549729\n 2.00940479 1.95038416 1.93444312 1.91391564 1.97506243 1.923023\n 2.1220584  1.96110432 1.93935543 1.96847594 2.030012   1.84661185\n 1.96847167 1.93718529 1.84032852 1.92216418 2.01689237 2.00800153\n 2.10347067 1.86632711 2.13195046 2.0813918  1.92244805 2.13760296\n 1.90881693 2.04348894 1.82728259 2.09733632 1.91832087 2.11753717\n 1.9238426  1.99001375 2.06253168 1.68698233 1.95117214 2.10666175\n 2.00482162 1.91273348 2.01772756 1.83654036 1.83127704 2.0582868\n 1.91164245 1.77305576 2.03207517 1.84255377 2.01345112 2.08955086\n 1.95311891 2.01885324 1.84048042 2.06056662 1.89114249 1.93792857\n 1.90214641 1.78616797 2.16071919 2.01586659 1.9319667  1.93909593\n 1.9669996  1.96033698 2.15268777 2.03549237 1.83753041 1.94505122\n 2.01351606 1.89527959 1.96120707 2.18753052 2.01625277 2.02721622\n 1.98781548 2.03223077 2.01931863 2.06665235 2.09495025 1.96591992\n 1.97612425 1.8750984  1.9159616  1.83104871 1.73732894 2.10660313\n 2.10927747 1.9425407  2.0260079  2.05499151 1.88897511 2.01832768\n 1.90243939 1.79692559 2.12914228 1.97240387 2.09888978 1.97309733\n 2.00272776 2.05588812 2.19512844 2.05053321 2.04980551 1.94082407\n 2.02512686 1.91952107 1.94085886 2.01170924 2.02065998 1.99038092\n 1.89812813 2.0223372  1.9597893  2.16552207 1.96158754 1.99824162\n 2.03259903 1.93674856 2.26465151 2.05647116 2.01119888 2.06186706\n 1.97456853 2.08546349 2.0193456  1.8396396  1.99282625 1.91454416\n 1.97975791 2.14344183 2.03609273 1.94435341 1.93568001 1.95628343\n 2.07927246 1.98987975 2.07075936 1.94278511 1.99901246 2.07178223\n 2.00475777 1.89696209 2.16014865 1.98141205 2.06087074 2.22289585\n 2.0915184  2.17406823 1.84348196 1.99842386 2.07551351 1.9648106\n 1.93382613 2.10652666 1.83786559 1.99386141 1.98327049 2.05594889\n 2.12988373 2.11533886 1.89042027 2.15245259 1.87569003 2.08661451\n 2.0022776  1.9514616  2.00875284 1.92655288 2.17234403 1.95221616\n 1.93368485 2.08474092 2.06106163 1.97894873 1.98892114 1.99653131\n 1.77339002 1.92570551 2.26036036 2.05357568 2.03299936 2.02049251\n 2.02212701 2.12632843 2.14973737 2.0434628  2.09606141 2.01227912\n 1.99722403 1.93359289 1.84270811 2.017524   1.940016   1.99400659\n 2.07020241 1.92993028 2.07422438 2.06663513 1.94504941 2.05690033\n 1.99619603 1.97156651 2.15506451 2.01269652 2.00716622 1.94409848\n 2.14449157 1.88444838 1.87243194 2.11344601 1.93828077 1.99899359\n 2.01050765 1.96465468 1.91913017 1.83204535 1.99936578 1.88779637\n 2.02443878 2.06110921 1.88463607 1.97416574 2.00671913 2.05399934\n 2.16081815 1.92845091 2.10689272 2.05868656 1.99162331 1.79914628\n 2.06238855 1.94244497 2.14298069 1.83255892 2.10463189 2.0126188\n 1.89990862 2.18908719 2.01166807 2.05151474 2.017895   2.21510538\n 1.95806858 2.05432031 2.22313184 2.0284821  1.80632698 1.99761866\n 2.01306577 1.85856835 2.03969302 2.14275523 2.04402469 1.92425354\n 1.99176288 2.03116272 1.93017076 2.02012175 2.10769938 2.02497828\n 1.93867388 1.97083738 2.00347372 1.86166135 2.00806343 1.93347643\n 2.09756345 2.19705384 1.97942577 1.91911056 2.01843111 2.09516141\n 1.91750629 2.01512206 2.05115258 1.98295772 2.02456516 2.13708105\n 2.06743752 1.825965   1.96417801 2.04556547 1.9742317  1.98657109\n 2.08724564 2.0350504  1.8887145  2.12455871 1.87528484 1.8860966\n 1.96921857 2.15925452 1.9862811  2.03539244 1.91873932 1.96191559\n 1.88699342 1.96637649 1.93830799 2.02026498 1.89044455 2.11757312\n 1.96917812 2.08174159 1.85632513 1.93289682 2.00501159 2.09836665\n 1.93616342 2.14383134 2.24481238 1.99357005 2.13728518 1.95607059\n 1.9987302  2.13627888 1.94716753 2.00216023 2.15878748 1.93627024\n 1.97239727 2.13372423 2.10816677 1.9025862  2.0817261  1.91220887\n 1.90111522 1.99609677 2.05201184 1.95567901 1.98746521 1.95745043\n 2.01533859 1.99543347 1.85175124 1.87270941 1.92763597 2.07173421\n 1.9312933  1.99014662 1.96902969 2.04232717 2.00992294 1.88640043\n 2.0140311  2.01441308 2.04610396 2.02812143 1.88590264 2.04944254\n 1.97254944 2.05969829 2.03201917 1.9172639  1.95852466 2.01646776\n 1.99407451 2.01204471 1.8246922  1.93783025 2.04921127 1.99820399\n 1.86227284 2.06755902 1.9339145  1.98613177 2.10259973 1.91473104\n 1.97941239 2.0504333  1.98039627 1.90679516 2.0391499  2.11071895\n 1.85640045 2.1923427  1.83629533 2.08596143 2.07297434 2.00159444\n 2.02725803 2.0925868  2.2433223  1.94202141 2.04308042 2.11142083\n 1.83293928 1.93753051 2.17576041 1.8372101  2.00496107 2.0840319\n 2.04470302 1.76434721 2.02976539 1.89230031 1.95593722 2.08680628\n 1.84897748 1.862329   2.07886553 2.10409513 2.01443783 1.91740643\n 1.99829022 2.02737064 2.19341874 1.95422041 1.9945052  1.91896764\n 2.06718979 2.09995047 2.05611337 2.22509018 2.16212086 2.03760259\n 1.99916071 2.07761721 2.0695484  1.97236936 1.98345747 1.80383587\n 2.00883656 1.95822771 1.86821885 2.18061932 2.08393114 2.03908867\n 2.06972104 2.04112694 2.07022526 1.95817974 1.95924196 1.78474061\n 2.09753908 1.93570084 2.01513949 1.90508543 1.89540898 2.06351489\n 2.03081613 1.9710885  2.01448523 2.0631067  1.94947911 2.13250655\n 1.93275644 1.95925046 1.96897576 2.00022269 2.09995436 1.98048465\n 1.79254883 2.11746603 1.90245007 1.99679254 1.91882671 2.19821011\n 2.15618061 1.88865734 1.94005792 2.03941431 1.98875104 2.02094767\n 1.98609956 2.08050656 1.91171849 1.94999475 2.13125749 1.81648911\n 1.84884837 2.11965267 1.95921877 1.80440981 1.89893853 1.91374049\n 2.06016028 2.06502493 1.97549841 1.99481197 2.08635558 2.17197013\n 2.04413164 2.03752874 1.98373424 2.15886069 1.81850968 2.01495453\n 1.79392266 1.98806857 2.29052188 1.96454267 1.79082649 2.06992038\n 1.91086664 1.95720597 2.12282772 2.03930061]\n"
     ]
    }
   ],
   "source": [
    "from numpy import loadtxt\n",
    "data = loadtxt('https://lancejnelson.github.io/PH121/files/numericalHW/drops.txt')\n",
    "print(data)"
   ]
  },
  {
   "cell_type": "markdown",
   "metadata": {},
   "source": [
    "The cool thing about arrays is that you can do math with them and python knows to perform the calculation on all of the numbers in the array.  For example:\n"
   ]
  },
  {
   "cell_type": "code",
   "execution_count": 14,
   "metadata": {},
   "outputs": [
    {
     "name": "stdout",
     "output_type": "stream",
     "text": [
      "[16  9  4]\n",
      "[-0.95765948 -0.91113026 -0.65364362]\n"
     ]
    }
   ],
   "source": [
    "from numpy import array\n",
    "\n",
    "a = array([4,3,2])\n",
    "b = a**2  # If I square the array it knows to square all of the numbers\n",
    "print(b)\n",
    "from numpy import cos\n",
    "\n",
    "c = cos(b)  # I can even calculate trig function across the array.\n",
    "print(c)"
   ]
  },
  {
   "cell_type": "markdown",
   "metadata": {},
   "source": [
    "## Histograms\n",
    "\n",
    "Histograms are valuable plots when you have a lot of data and want to visualize the mean and spread in the data.  For example, let's say that you had collected the heights of all students at BYU-Idaho and you wanted to visualize that data.  The cell below will show you how to build a histogram:"
   ]
  },
  {
   "cell_type": "code",
   "execution_count": 11,
   "metadata": {},
   "outputs": [
    {
     "data": {
      "image/png": "[encoded data removed]",
      "text/plain": [
       "<Figure size 432x288 with 1 Axes>"
      ]
     },
     "metadata": {
      "needs_background": "light"
     },
     "output_type": "display_data"
    }
   ],
   "source": [
    "# Generating fake data.  Don't worry about the next two lines.\n",
    "from numpy.random import normal\n",
    "heights = normal(5.5,0.1,size = 1000)\n",
    "\n",
    "# This is how you make the histogram.\n",
    "from matplotlib import pyplot\n",
    "pyplot.hist(heights)\n",
    "pyplot.show()"
   ]
  },
  {
   "cell_type": "markdown",
   "metadata": {},
   "source": [
    "From the histogram, you can quickly summarize the data:  The most likely height is somewhere near 5.5 ft or 5' 6\".  Very few people are shorter than 5.3 feet or taller than 5.7 feet.  Most students' height is somewhere between 5.4 and 5.6 feet.   \n",
    "\n",
    "\n",
    "# Your Problem.  \n",
    "\n",
    "Use the skills you've gained to solve the problem below:\n",
    "\n",
    "\n",
    "You are working for a rifle manufacturer and have been tasked with testing the consis- tency of the muzzle velocity on a particular rifle. You orient the rifle horizontally and aim it at a target located 50 meters away. You proceed to fire the rifle 1000 times, each time measuring the distance below the aim point (in centimeters) where the bullet hits.\n",
    "\n",
    "(download the data file [here](https://lancejnelson.github.io/PH121/files/numericalHW/drops.txt).  Or you can just paste the url into the 'loadtxt' command like I did above.)\n",
    "\n",
    "1. On a piece of paper, work out the kinematics to solve for the muzzle velocity.\n",
    "2. Read in the data and calculate the muzzle velocity for all 1000 trials.\n",
    "3. Make a histogram of the muzzle velocities.\n",
    "4. Comment on the appropriate range of muzzle velocities that you would feel comfortable reporting to your boss.\n"
   ]
  },
  {
   "cell_type": "code",
   "execution_count": 21,
   "metadata": {
    "tags": []
   },
   "outputs": [
    {
     "output_type": "display_data",
     "data": {
      "text/plain": "<Figure size 432x288 with 1 Axes>",
      "image/svg+xml": "<?xml version=\"1.0\" encoding=\"utf-8\" standalone=\"no\"?>\r\n<!DOCTYPE svg PUBLIC \"-//W3C//DTD SVG 1.1//EN\"\r\n  \"http://www.w3.org/Graphics/SVG/1.1/DTD/svg11.dtd\">\r\n<svg height=\"248.518125pt\" version=\"1.1\" viewBox=\"0 0 375.2875 248.518125\" width=\"375.2875pt\" xmlns=\"http://www.w3.org/2000/svg\" xmlns:xlink=\"http://www.w3.org/1999/xlink\">\r\n <metadata>\r\n  <rdf:RDF xmlns:cc=\"http://creativecommons.org/ns#\" xmlns:dc=\"http://purl.org/dc/elements/1.1/\" xmlns:rdf=\"http://www.w3.org/1999/02/22-rdf-syntax-ns#\">\r\n   <cc:Work>\r\n    <dc:type rdf:resource=\"http://purl.org/dc/dcmitype/StillImage\"/>\r\n    <dc:date>2021-05-25T23:33:46.331035</dc:date>\r\n    <dc:format>image/svg+xml</dc:format>\r\n    <dc:creator>\r\n     <cc:Agent>\r\n      <dc:title>Matplotlib v3.4.2, https://matplotlib.org/</dc:title>\r\n     </cc:Agent>\r\n    </dc:creator>\r\n   </cc:Work>\r\n  </rdf:RDF>\r\n </metadata>\r\n <defs>\r\n  <style type=\"text/css\">*{stroke-linecap:butt;stroke-linejoin:round;}</style>\r\n </defs>\r\n <g id=\"figure_1\">\r\n  <g id=\"patch_1\">\r\n   <path d=\"M 0 248.518125 \r\nL 375.2875 248.518125 \r\nL 375.2875 0 \r\nL 0 0 \r\nz\r\n\" style=\"fill:none;\"/>\r\n  </g>\r\n  <g id=\"axes_1\">\r\n   <g id=\"patch_2\">\r\n    <path d=\"M 33.2875 224.64 \r\nL 368.0875 224.64 \r\nL 368.0875 7.2 \r\nL 33.2875 7.2 \r\nz\r\n\" style=\"fill:#ffffff;\"/>\r\n   </g>\r\n   <g id=\"patch_3\">\r\n    <path clip-path=\"url(#p7efcfc9863)\" d=\"M 48.505682 224.64 \r\nL 78.942045 224.64 \r\nL 78.942045 218.039659 \r\nL 48.505682 218.039659 \r\nz\r\n\" style=\"fill:#1f77b4;\"/>\r\n   </g>\r\n   <g id=\"patch_4\">\r\n    <path clip-path=\"url(#p7efcfc9863)\" d=\"M 78.942045 224.64 \r\nL 109.378409 224.64 \r\nL 109.378409 189.988207 \r\nL 78.942045 189.988207 \r\nz\r\n\" style=\"fill:#1f77b4;\"/>\r\n   </g>\r\n   <g id=\"patch_5\">\r\n    <path clip-path=\"url(#p7efcfc9863)\" d=\"M 109.378409 224.64 \r\nL 139.814773 224.64 \r\nL 139.814773 142.960774 \r\nL 109.378409 142.960774 \r\nz\r\n\" style=\"fill:#1f77b4;\"/>\r\n   </g>\r\n   <g id=\"patch_6\">\r\n    <path clip-path=\"url(#p7efcfc9863)\" d=\"M 139.814773 224.64 \r\nL 170.251136 224.64 \r\nL 170.251136 66.231804 \r\nL 139.814773 66.231804 \r\nz\r\n\" style=\"fill:#1f77b4;\"/>\r\n   </g>\r\n   <g id=\"patch_7\">\r\n    <path clip-path=\"url(#p7efcfc9863)\" d=\"M 170.251136 224.64 \r\nL 200.6875 224.64 \r\nL 200.6875 17.554286 \r\nL 170.251136 17.554286 \r\nz\r\n\" style=\"fill:#1f77b4;\"/>\r\n   </g>\r\n   <g id=\"patch_8\">\r\n    <path clip-path=\"url(#p7efcfc9863)\" d=\"M 200.6875 224.64 \r\nL 231.123864 224.64 \r\nL 231.123864 48.905908 \r\nL 200.6875 48.905908 \r\nz\r\n\" style=\"fill:#1f77b4;\"/>\r\n   </g>\r\n   <g id=\"patch_9\">\r\n    <path clip-path=\"url(#p7efcfc9863)\" d=\"M 231.123864 224.64 \r\nL 261.560227 224.64 \r\nL 261.560227 130.585134 \r\nL 231.123864 130.585134 \r\nz\r\n\" style=\"fill:#1f77b4;\"/>\r\n   </g>\r\n   <g id=\"patch_10\">\r\n    <path clip-path=\"url(#p7efcfc9863)\" d=\"M 261.560227 224.64 \r\nL 291.996591 224.64 \r\nL 291.996591 175.137439 \r\nL 261.560227 175.137439 \r\nz\r\n\" style=\"fill:#1f77b4;\"/>\r\n   </g>\r\n   <g id=\"patch_11\">\r\n    <path clip-path=\"url(#p7efcfc9863)\" d=\"M 291.996591 224.64 \r\nL 322.432955 224.64 \r\nL 322.432955 209.789232 \r\nL 291.996591 209.789232 \r\nz\r\n\" style=\"fill:#1f77b4;\"/>\r\n   </g>\r\n   <g id=\"patch_12\">\r\n    <path clip-path=\"url(#p7efcfc9863)\" d=\"M 322.432955 224.64 \r\nL 352.869318 224.64 \r\nL 352.869318 222.164872 \r\nL 322.432955 222.164872 \r\nz\r\n\" style=\"fill:#1f77b4;\"/>\r\n   </g>\r\n   <g id=\"matplotlib.axis_1\">\r\n    <g id=\"xtick_1\">\r\n     <g id=\"line2d_1\">\r\n      <defs>\r\n       <path d=\"M 0 0 \r\nL 0 3.5 \r\n\" id=\"m9561aaf28e\" style=\"stroke:#000000;stroke-width:0.8;\"/>\r\n      </defs>\r\n      <g>\r\n       <use style=\"stroke:#000000;stroke-width:0.8;\" x=\"80.641312\" xlink:href=\"#m9561aaf28e\" y=\"224.64\"/>\r\n      </g>\r\n     </g>\r\n     <g id=\"text_1\">\r\n      <!-- −6.6 -->\r\n      <g transform=\"translate(68.499905 239.238437)scale(0.1 -0.1)\">\r\n       <defs>\r\n        <path d=\"M 678 2272 \r\nL 4684 2272 \r\nL 4684 1741 \r\nL 678 1741 \r\nL 678 2272 \r\nz\r\n\" id=\"DejaVuSans-2212\" transform=\"scale(0.015625)\"/>\r\n        <path d=\"M 2113 2584 \r\nQ 1688 2584 1439 2293 \r\nQ 1191 2003 1191 1497 \r\nQ 1191 994 1439 701 \r\nQ 1688 409 2113 409 \r\nQ 2538 409 2786 701 \r\nQ 3034 994 3034 1497 \r\nQ 3034 2003 2786 2293 \r\nQ 2538 2584 2113 2584 \r\nz\r\nM 3366 4563 \r\nL 3366 3988 \r\nQ 3128 4100 2886 4159 \r\nQ 2644 4219 2406 4219 \r\nQ 1781 4219 1451 3797 \r\nQ 1122 3375 1075 2522 \r\nQ 1259 2794 1537 2939 \r\nQ 1816 3084 2150 3084 \r\nQ 2853 3084 3261 2657 \r\nQ 3669 2231 3669 1497 \r\nQ 3669 778 3244 343 \r\nQ 2819 -91 2113 -91 \r\nQ 1303 -91 875 529 \r\nQ 447 1150 447 2328 \r\nQ 447 3434 972 4092 \r\nQ 1497 4750 2381 4750 \r\nQ 2619 4750 2861 4703 \r\nQ 3103 4656 3366 4563 \r\nz\r\n\" id=\"DejaVuSans-36\" transform=\"scale(0.015625)\"/>\r\n        <path d=\"M 684 794 \r\nL 1344 794 \r\nL 1344 0 \r\nL 684 0 \r\nL 684 794 \r\nz\r\n\" id=\"DejaVuSans-2e\" transform=\"scale(0.015625)\"/>\r\n       </defs>\r\n       <use xlink:href=\"#DejaVuSans-2212\"/>\r\n       <use x=\"83.789062\" xlink:href=\"#DejaVuSans-36\"/>\r\n       <use x=\"147.412109\" xlink:href=\"#DejaVuSans-2e\"/>\r\n       <use x=\"179.199219\" xlink:href=\"#DejaVuSans-36\"/>\r\n      </g>\r\n     </g>\r\n    </g>\r\n    <g id=\"xtick_2\">\r\n     <g id=\"line2d_2\">\r\n      <g>\r\n       <use style=\"stroke:#000000;stroke-width:0.8;\" x=\"144.710387\" xlink:href=\"#m9561aaf28e\" y=\"224.64\"/>\r\n      </g>\r\n     </g>\r\n     <g id=\"text_2\">\r\n      <!-- −6.4 -->\r\n      <g transform=\"translate(132.568981 239.238437)scale(0.1 -0.1)\">\r\n       <defs>\r\n        <path d=\"M 2419 4116 \r\nL 825 1625 \r\nL 2419 1625 \r\nL 2419 4116 \r\nz\r\nM 2253 4666 \r\nL 3047 4666 \r\nL 3047 1625 \r\nL 3713 1625 \r\nL 3713 1100 \r\nL 3047 1100 \r\nL 3047 0 \r\nL 2419 0 \r\nL 2419 1100 \r\nL 313 1100 \r\nL 313 1709 \r\nL 2253 4666 \r\nz\r\n\" id=\"DejaVuSans-34\" transform=\"scale(0.015625)\"/>\r\n       </defs>\r\n       <use xlink:href=\"#DejaVuSans-2212\"/>\r\n       <use x=\"83.789062\" xlink:href=\"#DejaVuSans-36\"/>\r\n       <use x=\"147.412109\" xlink:href=\"#DejaVuSans-2e\"/>\r\n       <use x=\"179.199219\" xlink:href=\"#DejaVuSans-34\"/>\r\n      </g>\r\n     </g>\r\n    </g>\r\n    <g id=\"xtick_3\">\r\n     <g id=\"line2d_3\">\r\n      <g>\r\n       <use style=\"stroke:#000000;stroke-width:0.8;\" x=\"208.779463\" xlink:href=\"#m9561aaf28e\" y=\"224.64\"/>\r\n      </g>\r\n     </g>\r\n     <g id=\"text_3\">\r\n      <!-- −6.2 -->\r\n      <g transform=\"translate(196.638056 239.238437)scale(0.1 -0.1)\">\r\n       <defs>\r\n        <path d=\"M 1228 531 \r\nL 3431 531 \r\nL 3431 0 \r\nL 469 0 \r\nL 469 531 \r\nQ 828 903 1448 1529 \r\nQ 2069 2156 2228 2338 \r\nQ 2531 2678 2651 2914 \r\nQ 2772 3150 2772 3378 \r\nQ 2772 3750 2511 3984 \r\nQ 2250 4219 1831 4219 \r\nQ 1534 4219 1204 4116 \r\nQ 875 4013 500 3803 \r\nL 500 4441 \r\nQ 881 4594 1212 4672 \r\nQ 1544 4750 1819 4750 \r\nQ 2544 4750 2975 4387 \r\nQ 3406 4025 3406 3419 \r\nQ 3406 3131 3298 2873 \r\nQ 3191 2616 2906 2266 \r\nQ 2828 2175 2409 1742 \r\nQ 1991 1309 1228 531 \r\nz\r\n\" id=\"DejaVuSans-32\" transform=\"scale(0.015625)\"/>\r\n       </defs>\r\n       <use xlink:href=\"#DejaVuSans-2212\"/>\r\n       <use x=\"83.789062\" xlink:href=\"#DejaVuSans-36\"/>\r\n       <use x=\"147.412109\" xlink:href=\"#DejaVuSans-2e\"/>\r\n       <use x=\"179.199219\" xlink:href=\"#DejaVuSans-32\"/>\r\n      </g>\r\n     </g>\r\n    </g>\r\n    <g id=\"xtick_4\">\r\n     <g id=\"line2d_4\">\r\n      <g>\r\n       <use style=\"stroke:#000000;stroke-width:0.8;\" x=\"272.848538\" xlink:href=\"#m9561aaf28e\" y=\"224.64\"/>\r\n      </g>\r\n     </g>\r\n     <g id=\"text_4\">\r\n      <!-- −6.0 -->\r\n      <g transform=\"translate(260.707132 239.238437)scale(0.1 -0.1)\">\r\n       <defs>\r\n        <path d=\"M 2034 4250 \r\nQ 1547 4250 1301 3770 \r\nQ 1056 3291 1056 2328 \r\nQ 1056 1369 1301 889 \r\nQ 1547 409 2034 409 \r\nQ 2525 409 2770 889 \r\nQ 3016 1369 3016 2328 \r\nQ 3016 3291 2770 3770 \r\nQ 2525 4250 2034 4250 \r\nz\r\nM 2034 4750 \r\nQ 2819 4750 3233 4129 \r\nQ 3647 3509 3647 2328 \r\nQ 3647 1150 3233 529 \r\nQ 2819 -91 2034 -91 \r\nQ 1250 -91 836 529 \r\nQ 422 1150 422 2328 \r\nQ 422 3509 836 4129 \r\nQ 1250 4750 2034 4750 \r\nz\r\n\" id=\"DejaVuSans-30\" transform=\"scale(0.015625)\"/>\r\n       </defs>\r\n       <use xlink:href=\"#DejaVuSans-2212\"/>\r\n       <use x=\"83.789062\" xlink:href=\"#DejaVuSans-36\"/>\r\n       <use x=\"147.412109\" xlink:href=\"#DejaVuSans-2e\"/>\r\n       <use x=\"179.199219\" xlink:href=\"#DejaVuSans-30\"/>\r\n      </g>\r\n     </g>\r\n    </g>\r\n    <g id=\"xtick_5\">\r\n     <g id=\"line2d_5\">\r\n      <g>\r\n       <use style=\"stroke:#000000;stroke-width:0.8;\" x=\"336.917613\" xlink:href=\"#m9561aaf28e\" y=\"224.64\"/>\r\n      </g>\r\n     </g>\r\n     <g id=\"text_5\">\r\n      <!-- −5.8 -->\r\n      <g transform=\"translate(324.776207 239.238437)scale(0.1 -0.1)\">\r\n       <defs>\r\n        <path d=\"M 691 4666 \r\nL 3169 4666 \r\nL 3169 4134 \r\nL 1269 4134 \r\nL 1269 2991 \r\nQ 1406 3038 1543 3061 \r\nQ 1681 3084 1819 3084 \r\nQ 2600 3084 3056 2656 \r\nQ 3513 2228 3513 1497 \r\nQ 3513 744 3044 326 \r\nQ 2575 -91 1722 -91 \r\nQ 1428 -91 1123 -41 \r\nQ 819 9 494 109 \r\nL 494 744 \r\nQ 775 591 1075 516 \r\nQ 1375 441 1709 441 \r\nQ 2250 441 2565 725 \r\nQ 2881 1009 2881 1497 \r\nQ 2881 1984 2565 2268 \r\nQ 2250 2553 1709 2553 \r\nQ 1456 2553 1204 2497 \r\nQ 953 2441 691 2322 \r\nL 691 4666 \r\nz\r\n\" id=\"DejaVuSans-35\" transform=\"scale(0.015625)\"/>\r\n        <path d=\"M 2034 2216 \r\nQ 1584 2216 1326 1975 \r\nQ 1069 1734 1069 1313 \r\nQ 1069 891 1326 650 \r\nQ 1584 409 2034 409 \r\nQ 2484 409 2743 651 \r\nQ 3003 894 3003 1313 \r\nQ 3003 1734 2745 1975 \r\nQ 2488 2216 2034 2216 \r\nz\r\nM 1403 2484 \r\nQ 997 2584 770 2862 \r\nQ 544 3141 544 3541 \r\nQ 544 4100 942 4425 \r\nQ 1341 4750 2034 4750 \r\nQ 2731 4750 3128 4425 \r\nQ 3525 4100 3525 3541 \r\nQ 3525 3141 3298 2862 \r\nQ 3072 2584 2669 2484 \r\nQ 3125 2378 3379 2068 \r\nQ 3634 1759 3634 1313 \r\nQ 3634 634 3220 271 \r\nQ 2806 -91 2034 -91 \r\nQ 1263 -91 848 271 \r\nQ 434 634 434 1313 \r\nQ 434 1759 690 2068 \r\nQ 947 2378 1403 2484 \r\nz\r\nM 1172 3481 \r\nQ 1172 3119 1398 2916 \r\nQ 1625 2713 2034 2713 \r\nQ 2441 2713 2670 2916 \r\nQ 2900 3119 2900 3481 \r\nQ 2900 3844 2670 4047 \r\nQ 2441 4250 2034 4250 \r\nQ 1625 4250 1398 4047 \r\nQ 1172 3844 1172 3481 \r\nz\r\n\" id=\"DejaVuSans-38\" transform=\"scale(0.015625)\"/>\r\n       </defs>\r\n       <use xlink:href=\"#DejaVuSans-2212\"/>\r\n       <use x=\"83.789062\" xlink:href=\"#DejaVuSans-35\"/>\r\n       <use x=\"147.412109\" xlink:href=\"#DejaVuSans-2e\"/>\r\n       <use x=\"179.199219\" xlink:href=\"#DejaVuSans-38\"/>\r\n      </g>\r\n     </g>\r\n    </g>\r\n   </g>\r\n   <g id=\"matplotlib.axis_2\">\r\n    <g id=\"ytick_1\">\r\n     <g id=\"line2d_6\">\r\n      <defs>\r\n       <path d=\"M 0 0 \r\nL -3.5 0 \r\n\" id=\"m5a6068f664\" style=\"stroke:#000000;stroke-width:0.8;\"/>\r\n      </defs>\r\n      <g>\r\n       <use style=\"stroke:#000000;stroke-width:0.8;\" x=\"33.2875\" xlink:href=\"#m5a6068f664\" y=\"224.64\"/>\r\n      </g>\r\n     </g>\r\n     <g id=\"text_6\">\r\n      <!-- 0 -->\r\n      <g transform=\"translate(19.925 228.439219)scale(0.1 -0.1)\">\r\n       <use xlink:href=\"#DejaVuSans-30\"/>\r\n      </g>\r\n     </g>\r\n    </g>\r\n    <g id=\"ytick_2\">\r\n     <g id=\"line2d_7\">\r\n      <g>\r\n       <use style=\"stroke:#000000;stroke-width:0.8;\" x=\"33.2875\" xlink:href=\"#m5a6068f664\" y=\"183.387866\"/>\r\n      </g>\r\n     </g>\r\n     <g id=\"text_7\">\r\n      <!-- 50 -->\r\n      <g transform=\"translate(13.5625 187.187084)scale(0.1 -0.1)\">\r\n       <use xlink:href=\"#DejaVuSans-35\"/>\r\n       <use x=\"63.623047\" xlink:href=\"#DejaVuSans-30\"/>\r\n      </g>\r\n     </g>\r\n    </g>\r\n    <g id=\"ytick_3\">\r\n     <g id=\"line2d_8\">\r\n      <g>\r\n       <use style=\"stroke:#000000;stroke-width:0.8;\" x=\"33.2875\" xlink:href=\"#m5a6068f664\" y=\"142.135731\"/>\r\n      </g>\r\n     </g>\r\n     <g id=\"text_8\">\r\n      <!-- 100 -->\r\n      <g transform=\"translate(7.2 145.93495)scale(0.1 -0.1)\">\r\n       <defs>\r\n        <path d=\"M 794 531 \r\nL 1825 531 \r\nL 1825 4091 \r\nL 703 3866 \r\nL 703 4441 \r\nL 1819 4666 \r\nL 2450 4666 \r\nL 2450 531 \r\nL 3481 531 \r\nL 3481 0 \r\nL 794 0 \r\nL 794 531 \r\nz\r\n\" id=\"DejaVuSans-31\" transform=\"scale(0.015625)\"/>\r\n       </defs>\r\n       <use xlink:href=\"#DejaVuSans-31\"/>\r\n       <use x=\"63.623047\" xlink:href=\"#DejaVuSans-30\"/>\r\n       <use x=\"127.246094\" xlink:href=\"#DejaVuSans-30\"/>\r\n      </g>\r\n     </g>\r\n    </g>\r\n    <g id=\"ytick_4\">\r\n     <g id=\"line2d_9\">\r\n      <g>\r\n       <use style=\"stroke:#000000;stroke-width:0.8;\" x=\"33.2875\" xlink:href=\"#m5a6068f664\" y=\"100.883597\"/>\r\n      </g>\r\n     </g>\r\n     <g id=\"text_9\">\r\n      <!-- 150 -->\r\n      <g transform=\"translate(7.2 104.682816)scale(0.1 -0.1)\">\r\n       <use xlink:href=\"#DejaVuSans-31\"/>\r\n       <use x=\"63.623047\" xlink:href=\"#DejaVuSans-35\"/>\r\n       <use x=\"127.246094\" xlink:href=\"#DejaVuSans-30\"/>\r\n      </g>\r\n     </g>\r\n    </g>\r\n    <g id=\"ytick_5\">\r\n     <g id=\"line2d_10\">\r\n      <g>\r\n       <use style=\"stroke:#000000;stroke-width:0.8;\" x=\"33.2875\" xlink:href=\"#m5a6068f664\" y=\"59.631463\"/>\r\n      </g>\r\n     </g>\r\n     <g id=\"text_10\">\r\n      <!-- 200 -->\r\n      <g transform=\"translate(7.2 63.430681)scale(0.1 -0.1)\">\r\n       <use xlink:href=\"#DejaVuSans-32\"/>\r\n       <use x=\"63.623047\" xlink:href=\"#DejaVuSans-30\"/>\r\n       <use x=\"127.246094\" xlink:href=\"#DejaVuSans-30\"/>\r\n      </g>\r\n     </g>\r\n    </g>\r\n    <g id=\"ytick_6\">\r\n     <g id=\"line2d_11\">\r\n      <g>\r\n       <use style=\"stroke:#000000;stroke-width:0.8;\" x=\"33.2875\" xlink:href=\"#m5a6068f664\" y=\"18.379328\"/>\r\n      </g>\r\n     </g>\r\n     <g id=\"text_11\">\r\n      <!-- 250 -->\r\n      <g transform=\"translate(7.2 22.178547)scale(0.1 -0.1)\">\r\n       <use xlink:href=\"#DejaVuSans-32\"/>\r\n       <use x=\"63.623047\" xlink:href=\"#DejaVuSans-35\"/>\r\n       <use x=\"127.246094\" xlink:href=\"#DejaVuSans-30\"/>\r\n      </g>\r\n     </g>\r\n    </g>\r\n   </g>\r\n   <g id=\"patch_13\">\r\n    <path d=\"M 33.2875 224.64 \r\nL 33.2875 7.2 \r\n\" style=\"fill:none;stroke:#000000;stroke-linecap:square;stroke-linejoin:miter;stroke-width:0.8;\"/>\r\n   </g>\r\n   <g id=\"patch_14\">\r\n    <path d=\"M 368.0875 224.64 \r\nL 368.0875 7.2 \r\n\" style=\"fill:none;stroke:#000000;stroke-linecap:square;stroke-linejoin:miter;stroke-width:0.8;\"/>\r\n   </g>\r\n   <g id=\"patch_15\">\r\n    <path d=\"M 33.2875 224.64 \r\nL 368.0875 224.64 \r\n\" style=\"fill:none;stroke:#000000;stroke-linecap:square;stroke-linejoin:miter;stroke-width:0.8;\"/>\r\n   </g>\r\n   <g id=\"patch_16\">\r\n    <path d=\"M 33.2875 7.2 \r\nL 368.0875 7.2 \r\n\" style=\"fill:none;stroke:#000000;stroke-linecap:square;stroke-linejoin:miter;stroke-width:0.8;\"/>\r\n   </g>\r\n  </g>\r\n </g>\r\n <defs>\r\n  <clipPath id=\"p7efcfc9863\">\r\n   <rect height=\"217.44\" width=\"334.8\" x=\"33.2875\" y=\"7.2\"/>\r\n  </clipPath>\r\n </defs>\r\n</svg>\r\n",
      "image/png": "[encoded data removed]"
     },
     "metadata": {
      "needs_background": "light"
     }
    }
   ],
   "source": [
    "import math\n",
    "from numpy import loadtxt\n",
    "from matplotlib import pyplot\n",
    "\n",
    "data = loadtxt('https://lancejnelson.github.io/PH121/files/numericalHW/drops.txt')\n",
    "velocities = []\n",
    "result = 0\n",
    "for i in data:\n",
    "    delta_y = math.sqrt(2 * i / 9.8)\n",
    "    result = 0 + (-9.8) * delta_y\n",
    "    velocities.append(result)\n",
    "\n",
    "pyplot.hist(velocities)\n",
    "pyplot.show()\n",
    "\n",
    "#I don't think this is right, but the range I would report 6 to 6.4\n",
    "\n",
    "\n"
   ]
  },
  {
   "cell_type": "code",
   "execution_count": null,
   "metadata": {},
   "outputs": [],
   "source": []
  }
 ],
 "metadata": {
  "kernelspec": {
   "name": "python391jvsc74a57bd04d617a17d133d10987ae882a8ecc156b0ec37d197fa7f9d592894036e640bcc6",
   "display_name": "Python 3.9.1 64-bit"
  },
  "language_info": {
   "codemirror_mode": {
    "name": "ipython",
    "version": 3
   },
   "file_extension": ".py",
   "mimetype": "text/x-python",
   "name": "python",
   "nbconvert_exporter": "python",
   "pygments_lexer": "ipython3",
   "version": "3.9.1"
  },
  "metadata": {
   "interpreter": {
    "hash": "4d617a17d133d10987ae882a8ecc156b0ec37d197fa7f9d592894036e640bcc6"
   }
  }
 },
 "nbformat": 4,
 "nbformat_minor": 4
}